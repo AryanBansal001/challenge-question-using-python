{
  "nbformat": 4,
  "nbformat_minor": 0,
  "metadata": {
    "colab": {
      "provenance": [],
      "authorship_tag": "ABX9TyM72Tb+ZS3K4m7B5O2p40RA",
      "include_colab_link": true
    },
    "kernelspec": {
      "name": "python3",
      "display_name": "Python 3"
    },
    "language_info": {
      "name": "python"
    }
  },
  "cells": [
    {
      "cell_type": "markdown",
      "metadata": {
        "id": "view-in-github",
        "colab_type": "text"
      },
      "source": [
        "<a href=\"https://colab.research.google.com/github/aryan0987654321/challenge-question-using-python/blob/main/challenge_question.ipynb\" target=\"_parent\"><img src=\"https://colab.research.google.com/assets/colab-badge.svg\" alt=\"Open In Colab\"/></a>"
      ]
    },
    {
      "cell_type": "code",
      "execution_count": null,
      "metadata": {
        "id": "GpuxeU1_xYnI"
      },
      "outputs": [],
      "source": [
        "L=[\"ram\",1,\"shyam\",2,\"aman\",3]\n",
        "L=[str(i) for i in L]\n",
        "L.sort()\n",
        "print(L)\n",
        "\n",
        "L1=[]\n",
        "\n",
        "for i in L:\n",
        "  try:\n",
        "    L1.append(int(i))\n",
        "  except:\n",
        "    L1.append(i)\n",
        "\n",
        "print(L1)"
      ]
    },
    {
      "cell_type": "code",
      "source": [
        "import time\n",
        "t1=time.time()\n",
        "for i in range(10000):\n",
        "   for j in range(100000):\n",
        "     x=900\n",
        "     t2=time.time()\n",
        "     print(\"total time\",t2-t1)\n"
      ],
      "metadata": {
        "id": "DZHlrhDZxbTL"
      },
      "execution_count": null,
      "outputs": []
    }
  ]
}